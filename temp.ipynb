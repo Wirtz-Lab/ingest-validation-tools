{
 "cells": [
  {
   "cell_type": "code",
   "execution_count": 3,
   "metadata": {
    "collapsed": true,
    "ExecuteTime": {
     "end_time": "2023-06-27T21:26:43.911607Z",
     "start_time": "2023-06-27T21:26:43.795843Z"
    }
   },
   "outputs": [
    {
     "ename": "ModuleNotFoundError",
     "evalue": "Couldn't locate OpenSlide dylib.  Is OpenSlide installed correctly?  https://openslide.org/api/python/#installing",
     "output_type": "error",
     "traceback": [
      "\u001B[0;31m---------------------------------------------------------------------------\u001B[0m",
      "\u001B[0;31mOSError\u001B[0m                                   Traceback (most recent call last)",
      "File \u001B[0;32m~/opt/anaconda3/envs/ingest-validation-tools/lib/python3.9/site-packages/openslide/lowlevel.py:69\u001B[0m\n\u001B[1;32m     68\u001B[0m \u001B[38;5;28;01mtry\u001B[39;00m:\n\u001B[0;32m---> 69\u001B[0m     _lib \u001B[38;5;241m=\u001B[39m \u001B[43mcdll\u001B[49m\u001B[38;5;241;43m.\u001B[39;49m\u001B[43mLoadLibrary\u001B[49m\u001B[43m(\u001B[49m\u001B[38;5;124;43m'\u001B[39;49m\u001B[38;5;124;43mlibopenslide.0.dylib\u001B[39;49m\u001B[38;5;124;43m'\u001B[39;49m\u001B[43m)\u001B[49m\n\u001B[1;32m     70\u001B[0m \u001B[38;5;28;01mexcept\u001B[39;00m \u001B[38;5;167;01mOSError\u001B[39;00m:\n\u001B[1;32m     71\u001B[0m     \u001B[38;5;66;03m# MacPorts doesn't add itself to the dyld search path, but\u001B[39;00m\n\u001B[1;32m     72\u001B[0m     \u001B[38;5;66;03m# does add itself to the find_library() search path\u001B[39;00m\n\u001B[1;32m     73\u001B[0m     \u001B[38;5;66;03m# (DEFAULT_LIBRARY_FALLBACK in ctypes.macholib.dyld).\u001B[39;00m\n",
      "File \u001B[0;32m~/opt/anaconda3/envs/ingest-validation-tools/lib/python3.9/ctypes/__init__.py:460\u001B[0m, in \u001B[0;36mLibraryLoader.LoadLibrary\u001B[0;34m(self, name)\u001B[0m\n\u001B[1;32m    459\u001B[0m \u001B[38;5;28;01mdef\u001B[39;00m \u001B[38;5;21mLoadLibrary\u001B[39m(\u001B[38;5;28mself\u001B[39m, name):\n\u001B[0;32m--> 460\u001B[0m     \u001B[38;5;28;01mreturn\u001B[39;00m \u001B[38;5;28;43mself\u001B[39;49m\u001B[38;5;241;43m.\u001B[39;49m\u001B[43m_dlltype\u001B[49m\u001B[43m(\u001B[49m\u001B[43mname\u001B[49m\u001B[43m)\u001B[49m\n",
      "File \u001B[0;32m~/opt/anaconda3/envs/ingest-validation-tools/lib/python3.9/ctypes/__init__.py:382\u001B[0m, in \u001B[0;36mCDLL.__init__\u001B[0;34m(self, name, mode, handle, use_errno, use_last_error, winmode)\u001B[0m\n\u001B[1;32m    381\u001B[0m \u001B[38;5;28;01mif\u001B[39;00m handle \u001B[38;5;129;01mis\u001B[39;00m \u001B[38;5;28;01mNone\u001B[39;00m:\n\u001B[0;32m--> 382\u001B[0m     \u001B[38;5;28mself\u001B[39m\u001B[38;5;241m.\u001B[39m_handle \u001B[38;5;241m=\u001B[39m \u001B[43m_dlopen\u001B[49m\u001B[43m(\u001B[49m\u001B[38;5;28;43mself\u001B[39;49m\u001B[38;5;241;43m.\u001B[39;49m\u001B[43m_name\u001B[49m\u001B[43m,\u001B[49m\u001B[43m \u001B[49m\u001B[43mmode\u001B[49m\u001B[43m)\u001B[49m\n\u001B[1;32m    383\u001B[0m \u001B[38;5;28;01melse\u001B[39;00m:\n",
      "\u001B[0;31mOSError\u001B[0m: dlopen(libopenslide.0.dylib, 0x0006): tried: 'libopenslide.0.dylib' (no such file), '/System/Volumes/Preboot/Cryptexes/OSlibopenslide.0.dylib' (no such file), '/Users/chamisulhuresh/opt/anaconda3/envs/ingest-validation-tools/lib/python3.9/lib-dynload/../../libopenslide.0.dylib' (no such file), '/Users/chamisulhuresh/opt/anaconda3/envs/ingest-validation-tools/bin/../lib/libopenslide.0.dylib' (no such file), '/usr/lib/libopenslide.0.dylib' (no such file, not in dyld cache), 'libopenslide.0.dylib' (no such file), '/usr/local/lib/libopenslide.0.dylib' (no such file), '/usr/lib/libopenslide.0.dylib' (no such file, not in dyld cache)",
      "\nDuring handling of the above exception, another exception occurred:\n",
      "\u001B[0;31mModuleNotFoundError\u001B[0m                       Traceback (most recent call last)",
      "Cell \u001B[0;32mIn[3], line 1\u001B[0m\n\u001B[0;32m----> 1\u001B[0m \u001B[38;5;28;01mfrom\u001B[39;00m \u001B[38;5;21;01mopenslide\u001B[39;00m \u001B[38;5;28;01mimport\u001B[39;00m OpenSlide\n",
      "File \u001B[0;32m~/opt/anaconda3/envs/ingest-validation-tools/lib/python3.9/site-packages/openslide/__init__.py:30\u001B[0m\n\u001B[1;32m     26\u001B[0m \u001B[38;5;28;01mfrom\u001B[39;00m \u001B[38;5;21;01mcollections\u001B[39;00m\u001B[38;5;21;01m.\u001B[39;00m\u001B[38;5;21;01mabc\u001B[39;00m \u001B[38;5;28;01mimport\u001B[39;00m Mapping\n\u001B[1;32m     28\u001B[0m \u001B[38;5;28;01mfrom\u001B[39;00m \u001B[38;5;21;01mPIL\u001B[39;00m \u001B[38;5;28;01mimport\u001B[39;00m Image\n\u001B[0;32m---> 30\u001B[0m \u001B[38;5;28;01mfrom\u001B[39;00m \u001B[38;5;21;01mopenslide\u001B[39;00m \u001B[38;5;28;01mimport\u001B[39;00m lowlevel\n\u001B[1;32m     32\u001B[0m \u001B[38;5;66;03m# For the benefit of library users\u001B[39;00m\n\u001B[1;32m     33\u001B[0m \u001B[38;5;28;01mfrom\u001B[39;00m \u001B[38;5;21;01mopenslide\u001B[39;00m\u001B[38;5;21;01m.\u001B[39;00m\u001B[38;5;21;01m_version\u001B[39;00m \u001B[38;5;28;01mimport\u001B[39;00m __version__  \u001B[38;5;66;03m# noqa: F401  module-imported-but-unused\u001B[39;00m\n",
      "File \u001B[0;32m~/opt/anaconda3/envs/ingest-validation-tools/lib/python3.9/site-packages/openslide/lowlevel.py:78\u001B[0m\n\u001B[1;32m     76\u001B[0m         _lib \u001B[38;5;241m=\u001B[39m ctypes\u001B[38;5;241m.\u001B[39mutil\u001B[38;5;241m.\u001B[39mfind_library(\u001B[38;5;124m'\u001B[39m\u001B[38;5;124mopenslide\u001B[39m\u001B[38;5;124m'\u001B[39m)\n\u001B[1;32m     77\u001B[0m         \u001B[38;5;28;01mif\u001B[39;00m _lib \u001B[38;5;129;01mis\u001B[39;00m \u001B[38;5;28;01mNone\u001B[39;00m:\n\u001B[0;32m---> 78\u001B[0m             \u001B[38;5;28;01mraise\u001B[39;00m \u001B[38;5;167;01mModuleNotFoundError\u001B[39;00m(\n\u001B[1;32m     79\u001B[0m                 \u001B[38;5;124m\"\u001B[39m\u001B[38;5;124mCouldn\u001B[39m\u001B[38;5;124m'\u001B[39m\u001B[38;5;124mt locate OpenSlide dylib.  Is OpenSlide installed \u001B[39m\u001B[38;5;124m\"\u001B[39m\n\u001B[1;32m     80\u001B[0m                 \u001B[38;5;124m\"\u001B[39m\u001B[38;5;124mcorrectly?  https://openslide.org/api/python/#installing\u001B[39m\u001B[38;5;124m\"\u001B[39m\n\u001B[1;32m     81\u001B[0m             )\n\u001B[1;32m     82\u001B[0m         _lib \u001B[38;5;241m=\u001B[39m cdll\u001B[38;5;241m.\u001B[39mLoadLibrary(_lib)\n\u001B[1;32m     83\u001B[0m \u001B[38;5;28;01melse\u001B[39;00m:\n",
      "\u001B[0;31mModuleNotFoundError\u001B[0m: Couldn't locate OpenSlide dylib.  Is OpenSlide installed correctly?  https://openslide.org/api/python/#installing"
     ]
    }
   ],
   "source": [
    "from openslide import OpenSlide"
   ]
  },
  {
   "cell_type": "code",
   "execution_count": null,
   "outputs": [],
   "source": [
    "src='/Volumes/PW Cloud Exp Documents/Lab work documenting/W-23-06-06 PW Testing Data injesting HubMap skin/HM-SR1-Skin-P010-B1-SB01/rawMicroscopy/he.ndpi'\n",
    "dst='/Volumes/PW Cloud Exp Documents/Lab work documenting/W-23-06-06 PW Testing Data injesting HubMap skin/HM-SR1-Skin-P010-B1-SB01/extras/thumbnail.jpg'\n",
    "thumbnail = OpenSlide(src).get_thumbnail().save(dst)"
   ],
   "metadata": {
    "collapsed": false
   }
  },
  {
   "cell_type": "code",
   "execution_count": 1,
   "outputs": [
    {
     "data": {
      "text/plain": "3"
     },
     "execution_count": 1,
     "metadata": {},
     "output_type": "execute_result"
    }
   ],
   "source": [
    "1+2"
   ],
   "metadata": {
    "collapsed": false,
    "ExecuteTime": {
     "end_time": "2023-06-27T21:25:19.501893Z",
     "start_time": "2023-06-27T21:25:19.483349Z"
    }
   }
  },
  {
   "cell_type": "code",
   "execution_count": null,
   "outputs": [],
   "source": [],
   "metadata": {
    "collapsed": false
   }
  }
 ],
 "metadata": {
  "kernelspec": {
   "display_name": "Python 3",
   "language": "python",
   "name": "python3"
  },
  "language_info": {
   "codemirror_mode": {
    "name": "ipython",
    "version": 2
   },
   "file_extension": ".py",
   "mimetype": "text/x-python",
   "name": "python",
   "nbconvert_exporter": "python",
   "pygments_lexer": "ipython2",
   "version": "2.7.6"
  }
 },
 "nbformat": 4,
 "nbformat_minor": 0
}
